{
 "cells": [
  {
   "cell_type": "code",
   "execution_count": 2,
   "metadata": {},
   "outputs": [],
   "source": [
    "import pandas as pd\n",
    "import numpy as np\n",
    "import matplotlib.pyplot as plt"
   ]
  },
  {
   "cell_type": "code",
   "execution_count": 3,
   "metadata": {},
   "outputs": [
    {
     "data": {
      "text/html": [
       "<div>\n",
       "<style scoped>\n",
       "    .dataframe tbody tr th:only-of-type {\n",
       "        vertical-align: middle;\n",
       "    }\n",
       "\n",
       "    .dataframe tbody tr th {\n",
       "        vertical-align: top;\n",
       "    }\n",
       "\n",
       "    .dataframe thead th {\n",
       "        text-align: right;\n",
       "    }\n",
       "</style>\n",
       "<table border=\"1\" class=\"dataframe\">\n",
       "  <thead>\n",
       "    <tr style=\"text-align: right;\">\n",
       "      <th></th>\n",
       "      <th>P-TPT_min</th>\n",
       "      <th>P-TPT_max</th>\n",
       "      <th>P-TPT_avg</th>\n",
       "      <th>P-TPT_median</th>\n",
       "      <th>P-TPT_std</th>\n",
       "      <th>P-TPT_skew</th>\n",
       "      <th>P-TPT_kurtosis</th>\n",
       "      <th>class</th>\n",
       "      <th>Well</th>\n",
       "      <th>T-TPT_min</th>\n",
       "      <th>T-TPT_max</th>\n",
       "      <th>T-TPT_avg</th>\n",
       "      <th>T-TPT_median</th>\n",
       "      <th>T-TPT_std</th>\n",
       "      <th>T-TPT_skew</th>\n",
       "      <th>T-TPT_kurtosis</th>\n",
       "    </tr>\n",
       "  </thead>\n",
       "  <tbody>\n",
       "    <tr>\n",
       "      <th>0</th>\n",
       "      <td>10074140.0</td>\n",
       "      <td>10094480.0</td>\n",
       "      <td>1.007721e+07</td>\n",
       "      <td>10074540.0</td>\n",
       "      <td>5209.312742</td>\n",
       "      <td>1.833867</td>\n",
       "      <td>2.013847</td>\n",
       "      <td>0</td>\n",
       "      <td>1</td>\n",
       "      <td>119.0202</td>\n",
       "      <td>119.0983</td>\n",
       "      <td>119.071595</td>\n",
       "      <td>119.09460</td>\n",
       "      <td>0.030666</td>\n",
       "      <td>-0.644713</td>\n",
       "      <td>-1.368589</td>\n",
       "    </tr>\n",
       "    <tr>\n",
       "      <th>1</th>\n",
       "      <td>10054590.0</td>\n",
       "      <td>10074540.0</td>\n",
       "      <td>1.005869e+07</td>\n",
       "      <td>10054590.0</td>\n",
       "      <td>6934.029502</td>\n",
       "      <td>1.397679</td>\n",
       "      <td>0.325582</td>\n",
       "      <td>0</td>\n",
       "      <td>1</td>\n",
       "      <td>119.0289</td>\n",
       "      <td>119.0816</td>\n",
       "      <td>119.053798</td>\n",
       "      <td>119.05295</td>\n",
       "      <td>0.015037</td>\n",
       "      <td>0.139920</td>\n",
       "      <td>-1.137372</td>\n",
       "    </tr>\n",
       "    <tr>\n",
       "      <th>2</th>\n",
       "      <td>10054590.0</td>\n",
       "      <td>10074540.0</td>\n",
       "      <td>1.006806e+07</td>\n",
       "      <td>10074540.0</td>\n",
       "      <td>8691.019859</td>\n",
       "      <td>-0.741157</td>\n",
       "      <td>-1.315182</td>\n",
       "      <td>0</td>\n",
       "      <td>1</td>\n",
       "      <td>119.0202</td>\n",
       "      <td>119.0983</td>\n",
       "      <td>119.052313</td>\n",
       "      <td>119.03720</td>\n",
       "      <td>0.028058</td>\n",
       "      <td>0.481393</td>\n",
       "      <td>-1.525810</td>\n",
       "    </tr>\n",
       "    <tr>\n",
       "      <th>3</th>\n",
       "      <td>10054590.0</td>\n",
       "      <td>10094480.0</td>\n",
       "      <td>1.007383e+07</td>\n",
       "      <td>10075870.0</td>\n",
       "      <td>12058.096512</td>\n",
       "      <td>-0.200505</td>\n",
       "      <td>-1.196607</td>\n",
       "      <td>0</td>\n",
       "      <td>1</td>\n",
       "      <td>119.0074</td>\n",
       "      <td>119.0593</td>\n",
       "      <td>119.047137</td>\n",
       "      <td>119.05010</td>\n",
       "      <td>0.012727</td>\n",
       "      <td>-1.324615</td>\n",
       "      <td>1.187340</td>\n",
       "    </tr>\n",
       "    <tr>\n",
       "      <th>4</th>\n",
       "      <td>9994737.0</td>\n",
       "      <td>10094480.0</td>\n",
       "      <td>1.004313e+07</td>\n",
       "      <td>10033905.0</td>\n",
       "      <td>33898.027444</td>\n",
       "      <td>0.154115</td>\n",
       "      <td>-1.517661</td>\n",
       "      <td>0</td>\n",
       "      <td>1</td>\n",
       "      <td>118.9811</td>\n",
       "      <td>119.0796</td>\n",
       "      <td>119.000756</td>\n",
       "      <td>118.98400</td>\n",
       "      <td>0.027312</td>\n",
       "      <td>1.284583</td>\n",
       "      <td>0.406179</td>\n",
       "    </tr>\n",
       "  </tbody>\n",
       "</table>\n",
       "</div>"
      ],
      "text/plain": [
       "    P-TPT_min   P-TPT_max     P-TPT_avg  P-TPT_median     P-TPT_std  \\\n",
       "0  10074140.0  10094480.0  1.007721e+07    10074540.0   5209.312742   \n",
       "1  10054590.0  10074540.0  1.005869e+07    10054590.0   6934.029502   \n",
       "2  10054590.0  10074540.0  1.006806e+07    10074540.0   8691.019859   \n",
       "3  10054590.0  10094480.0  1.007383e+07    10075870.0  12058.096512   \n",
       "4   9994737.0  10094480.0  1.004313e+07    10033905.0  33898.027444   \n",
       "\n",
       "   P-TPT_skew  P-TPT_kurtosis  class  Well  T-TPT_min  T-TPT_max   T-TPT_avg  \\\n",
       "0    1.833867        2.013847      0     1   119.0202   119.0983  119.071595   \n",
       "1    1.397679        0.325582      0     1   119.0289   119.0816  119.053798   \n",
       "2   -0.741157       -1.315182      0     1   119.0202   119.0983  119.052313   \n",
       "3   -0.200505       -1.196607      0     1   119.0074   119.0593  119.047137   \n",
       "4    0.154115       -1.517661      0     1   118.9811   119.0796  119.000756   \n",
       "\n",
       "   T-TPT_median  T-TPT_std  T-TPT_skew  T-TPT_kurtosis  \n",
       "0     119.09460   0.030666   -0.644713       -1.368589  \n",
       "1     119.05295   0.015037    0.139920       -1.137372  \n",
       "2     119.03720   0.028058    0.481393       -1.525810  \n",
       "3     119.05010   0.012727   -1.324615        1.187340  \n",
       "4     118.98400   0.027312    1.284583        0.406179  "
      ]
     },
     "execution_count": 3,
     "metadata": {},
     "output_type": "execute_result"
    }
   ],
   "source": [
    "# import data\n",
    "input_df = pd.read_csv('.\\\\data\\\\model_input.csv', index_col=0)\n",
    "input_df = input_df.iloc[:, 1:17].reset_index(drop=True)\n",
    "input_df.head()"
   ]
  },
  {
   "cell_type": "code",
   "execution_count": 4,
   "metadata": {},
   "outputs": [
    {
     "data": {
      "text/plain": [
       "Well  class\n",
       "1     0         674\n",
       "      4         146\n",
       "2     0        2040\n",
       "      4         452\n",
       "3     0         260\n",
       "4     0          48\n",
       "      4         172\n",
       "5     0         550\n",
       "      4         152\n",
       "6     0        1150\n",
       "7     0           8\n",
       "      4          40\n",
       "8     0         570\n",
       "10    4         332\n",
       "14    4          84\n",
       "Name: P-TPT_min, dtype: int64"
      ]
     },
     "execution_count": 4,
     "metadata": {},
     "output_type": "execute_result"
    }
   ],
   "source": [
    "input_df.groupby(['Well', 'class'])['P-TPT_min'].count()"
   ]
  },
  {
   "cell_type": "code",
   "execution_count": 5,
   "metadata": {},
   "outputs": [
    {
     "data": {
      "text/plain": [
       "(6678, 16)"
      ]
     },
     "execution_count": 5,
     "metadata": {},
     "output_type": "execute_result"
    }
   ],
   "source": [
    "input_df.shape"
   ]
  },
  {
   "cell_type": "code",
   "execution_count": 6,
   "metadata": {},
   "outputs": [
    {
     "data": {
      "text/plain": [
       "<AxesSubplot:>"
      ]
     },
     "execution_count": 6,
     "metadata": {},
     "output_type": "execute_result"
    },
    {
     "data": {
      "image/png": "[encoded data removed]",
      "text/plain": [
       "<Figure size 720x432 with 2 Axes>"
      ]
     },
     "metadata": {
      "needs_background": "light"
     },
     "output_type": "display_data"
    }
   ],
   "source": [
    "import seaborn as sns\n",
    "\n",
    "predictors = [x for x in input_df.columns if x not in ['Well', 'P-TPT_min', 'P-TPT_max', 'P-TPT_median', 'T-TPT_min', 'T-TPT_max', 'T-TPT_median']]\n",
    "plt.figure(figsize=(10, 6))\n",
    "corr = input_df[predictors].corr()\n",
    "sns.heatmap(corr, \n",
    "            xticklabels=corr.columns.values,\n",
    "            yticklabels=corr.columns.values)"
   ]
  },
  {
   "cell_type": "code",
   "execution_count": 7,
   "metadata": {},
   "outputs": [
    {
     "name": "stdout",
     "output_type": "stream",
     "text": [
      "{0, 1}\n",
      "train data set contains 5644 observations\n",
      "training set has 4722 observations of class 0 and 922 of class 4\n",
      "test data set contains 1034 observations\n",
      "training set has 578 observations of class 0 and 456 of class 4\n"
     ]
    }
   ],
   "source": [
    "train_wells = [1, 2, 3, 4, 5, 6]\n",
    "test_wells = [7, 8, 10, 14]\n",
    "\n",
    "#_X = input_df[['P-TPT_min', 'P-TPT_max', 'P-TPT_avg', 'P-TPT_median', 'P-TPT_std', 'P-TPT_skew', 'P-TPT_kurtosis', 'class', 'Well', 'T-TPT_min', 'T-TPT_max', 'T-TPT_avg', 'T-TPT_median', 'T-TPT_std', 'T-TPT_skew']]\n",
    "train_idx = input_df['Well'].isin(train_wells)\n",
    "test_idx = input_df['Well'].isin(test_wells)\n",
    "\n",
    "from sklearn.preprocessing import StandardScaler, RobustScaler\n",
    "\n",
    "scaler = StandardScaler()\n",
    "X = input_df[predictors].drop(['class'], axis=1)\n",
    "Y = input_df['class']\n",
    "Y = Y.replace(4, 1)\n",
    "print(set(Y))\n",
    "\n",
    "_X = scaler.fit_transform(X)\n",
    "\n",
    "X_train = _X[train_idx, :]\n",
    "X_test = _X[test_idx, :]\n",
    "Y_train = Y[train_idx]\n",
    "Y_test = Y[test_idx]\n",
    "\n",
    "print(f\"train data set contains {X_train.shape[0]} observations\")\n",
    "print(f\"training set has {len(Y_train[Y_train==0])} observations of class 0 and {len(Y_train[Y_train==1])} of class 4\")\n",
    "print(f\"test data set contains {X_test.shape[0]} observations\")\n",
    "print(f\"training set has {len(Y_test[Y_test==0])} observations of class 0 and {len(Y_test[Y_test==1])} of class 4\")\n",
    "\n",
    "\n"
   ]
  },
  {
   "cell_type": "code",
   "execution_count": 8,
   "metadata": {},
   "outputs": [
    {
     "name": "stdout",
     "output_type": "stream",
     "text": [
      "[0.29458264 0.44798886 0.59033324 0.72098744 0.82864393 0.92690234\n",
      " 0.97455661]\n"
     ]
    }
   ],
   "source": [
    "from sklearn.decomposition import PCA\n",
    "pca = PCA(n_components=7).fit(_X)\n",
    "print(np.cumsum(pca.explained_variance_ratio_))\n",
    "\n",
    "_X_pca = pca.fit_transform(_X)"
   ]
  },
  {
   "cell_type": "code",
   "execution_count": 9,
   "metadata": {},
   "outputs": [
    {
     "data": {
      "text/plain": [
       "<matplotlib.legend.Legend at 0x22e2fc83df0>"
      ]
     },
     "execution_count": 9,
     "metadata": {},
     "output_type": "execute_result"
    },
    {
     "data": {
      "image/png": "[encoded data removed]",
      "text/plain": [
       "<Figure size 864x576 with 1 Axes>"
      ]
     },
     "metadata": {
      "needs_background": "light"
     },
     "output_type": "display_data"
    }
   ],
   "source": [
    "\n",
    "\n",
    "plt.figure(figsize=(12, 8))\n",
    "plt.scatter(_X_pca[Y == 0, 0], _X_pca[Y == 0, 1], color='r', label='Y = 0', s=2)\n",
    "plt.scatter(_X_pca[Y == 4, 0], _X_pca[Y == 4, 1], color='b', label='Y = 4', s=2)\n",
    "plt.title('Principal Component Analysis')\n",
    "plt.xlabel('First Principal Component')\n",
    "plt.ylabel('Second Principal Component')\n",
    "plt.legend()"
   ]
  },
  {
   "cell_type": "code",
   "execution_count": 10,
   "metadata": {},
   "outputs": [
    {
     "name": "stdout",
     "output_type": "stream",
     "text": [
      "Fitting 10 folds for each of 10 candidates, totalling 100 fits\n",
      "best score of 0.9241679203050076 with n_estimators = 270\n",
      "(array([0.82571429, 1.        ]), array([1.        , 0.73245614]), array([0.90453834, 0.84556962]), array([578, 456], dtype=int64))\n",
      "              precision    recall  f1-score   support\n",
      "\n",
      "           0       0.83      1.00      0.90       578\n",
      "           1       1.00      0.73      0.85       456\n",
      "\n",
      "    accuracy                           0.88      1034\n",
      "   macro avg       0.91      0.87      0.88      1034\n",
      "weighted avg       0.90      0.88      0.88      1034\n",
      "\n"
     ]
    }
   ],
   "source": [
    "from sklearn.ensemble import RandomForestClassifier\n",
    "from sklearn.linear_model import LogisticRegression\n",
    "from sklearn.naive_bayes import GaussianNB\n",
    "from sklearn.model_selection import GridSearchCV\n",
    "from sklearn.metrics import classification_report, confusion_matrix, ConfusionMatrixDisplay, precision_recall_fscore_support, precision_score\n",
    "\n",
    "# random forest\n",
    "n_trees = np.linspace(30, 300, num=10)\n",
    "param = {'n_estimators': [int(x) for x in n_trees]}\n",
    "clf = RandomForestClassifier(random_state=42, warm_start=True)\n",
    "#scorer = precision_score(pos_label=4)\n",
    "cv = GridSearchCV(clf, param, cv=10, verbose=1, scoring='precision')\n",
    "cv.fit(X_train, Y_train.ravel())\n",
    "#print(cv.cv_results_)\n",
    "print(f\"best score of {cv.best_score_} with {list(param.keys())[0]} = {cv.best_params_[list(param.keys())[0]]}\")\n",
    "clf.set_params(**cv.best_params_)\n",
    "clf.fit(X_train, Y_train.ravel())\n",
    "y_pred = clf.predict(X_test)\n",
    "print(precision_recall_fscore_support(Y_test, y_pred))\n",
    "print(classification_report(Y_test.ravel(), y_pred))"
   ]
  },
  {
   "cell_type": "code",
   "execution_count": 11,
   "metadata": {},
   "outputs": [
    {
     "data": {
      "text/plain": [
       "<sklearn.metrics._plot.confusion_matrix.ConfusionMatrixDisplay at 0x22e2d8c79a0>"
      ]
     },
     "execution_count": 11,
     "metadata": {},
     "output_type": "execute_result"
    },
    {
     "data": {
      "image/png": "[encoded data removed]",
      "text/plain": [
       "<Figure size 432x432 with 2 Axes>"
      ]
     },
     "metadata": {
      "needs_background": "light"
     },
     "output_type": "display_data"
    }
   ],
   "source": [
    "fig, ax = plt.subplots(figsize=(6, 6))\n",
    "cm = confusion_matrix(Y_test.ravel(), y_pred)\n",
    "disp = ConfusionMatrixDisplay(confusion_matrix=cm, display_labels=['Normal', 'Instability'])\n",
    "disp.plot(ax=ax, cmap='Blues')"
   ]
  },
  {
   "cell_type": "code",
   "execution_count": 12,
   "metadata": {},
   "outputs": [
    {
     "data": {
      "text/plain": [
       "{'mean_fit_time': array([0.17405713, 0.31249344, 0.50813978, 0.68226733, 0.84509003,\n",
       "        0.94639678, 1.28484938, 1.46586015, 1.56278274, 1.73554223]),\n",
       " 'std_fit_time': array([0.02457233, 0.03072149, 0.11561869, 0.06684791, 0.08999392,\n",
       "        0.09568522, 0.13926312, 0.13831951, 0.17730419, 0.18906638]),\n",
       " 'mean_score_time': array([0.00848258, 0.0094269 , 0.01439946, 0.01684158, 0.0184123 ,\n",
       "        0.02025454, 0.02912791, 0.03285892, 0.03903196, 0.03329537]),\n",
       " 'std_score_time': array([0.00852355, 0.00226945, 0.0040029 , 0.00768553, 0.00657204,\n",
       "        0.00594603, 0.00841249, 0.00796511, 0.01426963, 0.00711802]),\n",
       " 'param_n_estimators': masked_array(data=[30, 60, 90, 120, 150, 180, 210, 240, 270, 300],\n",
       "              mask=[False, False, False, False, False, False, False, False,\n",
       "                    False, False],\n",
       "        fill_value='?',\n",
       "             dtype=object),\n",
       " 'params': [{'n_estimators': 30},\n",
       "  {'n_estimators': 60},\n",
       "  {'n_estimators': 90},\n",
       "  {'n_estimators': 120},\n",
       "  {'n_estimators': 150},\n",
       "  {'n_estimators': 180},\n",
       "  {'n_estimators': 210},\n",
       "  {'n_estimators': 240},\n",
       "  {'n_estimators': 270},\n",
       "  {'n_estimators': 300}],\n",
       " 'split0_test_score': array([0.81818182, 0.80821918, 0.74117647, 0.78205128, 0.82191781,\n",
       "        0.83783784, 0.85135135, 0.83783784, 0.84931507, 0.85135135]),\n",
       " 'split1_test_score': array([0.70408163, 0.69902913, 0.69902913, 0.73195876, 0.69902913,\n",
       "        0.72      , 0.69902913, 0.73      , 0.75257732, 0.73737374]),\n",
       " 'split2_test_score': array([1., 1., 1., 1., 1., 1., 1., 1., 1., 1.]),\n",
       " 'split3_test_score': array([1., 1., 1., 1., 1., 1., 1., 1., 1., 1.]),\n",
       " 'split4_test_score': array([1., 1., 1., 1., 1., 1., 1., 1., 1., 1.]),\n",
       " 'split5_test_score': array([1., 1., 1., 1., 1., 1., 1., 1., 1., 1.]),\n",
       " 'split6_test_score': array([0.68148148, 0.67647059, 0.67153285, 0.67153285, 0.67153285,\n",
       "        0.67153285, 0.67153285, 0.67153285, 0.67153285, 0.67153285]),\n",
       " 'split7_test_score': array([0.96153846, 0.96774194, 0.92424242, 0.94029851, 0.96825397,\n",
       "        0.95454545, 0.96875   , 0.96825397, 0.96825397, 0.96875   ]),\n",
       " 'split8_test_score': array([1., 1., 1., 1., 1., 1., 1., 1., 1., 1.]),\n",
       " 'split9_test_score': array([1., 1., 1., 1., 1., 1., 1., 1., 1., 1.]),\n",
       " 'mean_test_score': array([0.91652834, 0.91514608, 0.90359809, 0.91258414, 0.91607337,\n",
       "        0.91839161, 0.91906633, 0.92076247, 0.92416792, 0.92290079]),\n",
       " 'std_test_score': array([0.12404986, 0.12691467, 0.13351767, 0.12425271, 0.12679055,\n",
       "        0.12167747, 0.12491779, 0.12054426, 0.11632599, 0.11852988]),\n",
       " 'rank_test_score': array([ 6,  8, 10,  9,  7,  5,  4,  3,  1,  2])}"
      ]
     },
     "execution_count": 12,
     "metadata": {},
     "output_type": "execute_result"
    }
   ],
   "source": [
    "cv.cv_results_"
   ]
  },
  {
   "cell_type": "code",
   "execution_count": 13,
   "metadata": {},
   "outputs": [
    {
     "data": {
      "text/plain": [
       "Text(0, 0.5, 'Precision')"
      ]
     },
     "execution_count": 13,
     "metadata": {},
     "output_type": "execute_result"
    },
    {
     "data": {
      "image/png": "[encoded data removed]",
      "text/plain": [
       "<Figure size 864x576 with 1 Axes>"
      ]
     },
     "metadata": {
      "needs_background": "light"
     },
     "output_type": "display_data"
    }
   ],
   "source": [
    "plt.figure(figsize=(12, 8))\n",
    "plt.grid()\n",
    "plt.bar(n_trees, cv.cv_results_['mean_test_score'], yerr=cv.cv_results_['std_test_score'], width=10)\n",
    "plt.ylim((0.5, 1.1))\n",
    "plt.xlabel('Number of Trees')\n",
    "plt.ylabel('Precision')"
   ]
  },
  {
   "cell_type": "code",
   "execution_count": 14,
   "metadata": {},
   "outputs": [
    {
     "name": "stderr",
     "output_type": "stream",
     "text": [
      "c:\\Users\\Tom Swarbrick\\AppData\\Local\\Programs\\Python\\Python310\\lib\\site-packages\\sklearn\\ensemble\\_forest.py:429: UserWarning: Warm-start fitting without increasing n_estimators does not fit new trees.\n",
      "  warn(\n"
     ]
    },
    {
     "data": {
      "image/png": "[encoded data removed]",
      "text/plain": [
       "<Figure size 864x576 with 1 Axes>"
      ]
     },
     "metadata": {
      "needs_background": "light"
     },
     "output_type": "display_data"
    }
   ],
   "source": [
    "clf.fit(X_train, Y_train.ravel())\n",
    "importances = clf.feature_importances_\n",
    "std = np.std([clf.feature_importances_ for tree in clf.estimators_], axis=0)\n",
    "\n",
    "forest_importances = pd.Series(importances, index=X.columns)\n",
    "\n",
    "fig, ax = plt.subplots()\n",
    "fig.add_gridspec()\n",
    "fig.set_figwidth(12)\n",
    "fig.set_figheight(8)\n",
    "forest_importances.plot.bar(yerr=std, ax=ax)\n",
    "ax.set_ylabel(\"Mean decrease in impurity\")\n",
    "fig.tight_layout()"
   ]
  },
  {
   "cell_type": "code",
   "execution_count": 15,
   "metadata": {},
   "outputs": [
    {
     "name": "stdout",
     "output_type": "stream",
     "text": [
      "(array([1.        , 0.98275862]), array([0.98615917, 1.        ]), array([0.99303136, 0.99130435]), array([578, 456], dtype=int64))\n",
      "              precision    recall  f1-score   support\n",
      "\n",
      "           0       1.00      0.99      0.99       578\n",
      "           1       0.98      1.00      0.99       456\n",
      "\n",
      "    accuracy                           0.99      1034\n",
      "   macro avg       0.99      0.99      0.99      1034\n",
      "weighted avg       0.99      0.99      0.99      1034\n",
      "\n"
     ]
    }
   ],
   "source": [
    "# naive bayes\n",
    "clf = GaussianNB()\n",
    "clf.fit(X_train, Y_train.ravel())\n",
    "y_pred = clf.predict(X_test)\n",
    "print(precision_recall_fscore_support(Y_test, y_pred))\n",
    "print(classification_report(Y_test.ravel(), y_pred))"
   ]
  },
  {
   "cell_type": "code",
   "execution_count": 16,
   "metadata": {},
   "outputs": [
    {
     "data": {
      "text/plain": [
       "<sklearn.metrics._plot.confusion_matrix.ConfusionMatrixDisplay at 0x22e1e721600>"
      ]
     },
     "execution_count": 16,
     "metadata": {},
     "output_type": "execute_result"
    },
    {
     "data": {
      "image/png": "[encoded data removed]",
      "text/plain": [
       "<Figure size 432x432 with 2 Axes>"
      ]
     },
     "metadata": {
      "needs_background": "light"
     },
     "output_type": "display_data"
    }
   ],
   "source": [
    "fig, ax = plt.subplots(figsize=(6, 6))\n",
    "cm = confusion_matrix(Y_test.ravel(), y_pred)\n",
    "disp = ConfusionMatrixDisplay(confusion_matrix=cm, display_labels=['Normal', 'Instability'])\n",
    "disp.plot(ax=ax, cmap='Blues')"
   ]
  },
  {
   "cell_type": "code",
   "execution_count": 28,
   "metadata": {},
   "outputs": [
    {
     "name": "stdout",
     "output_type": "stream",
     "text": [
      "Fitting 10 folds for each of 6 candidates, totalling 60 fits\n"
     ]
    },
    {
     "name": "stderr",
     "output_type": "stream",
     "text": [
      "c:\\Users\\Tom Swarbrick\\AppData\\Local\\Programs\\Python\\Python310\\lib\\site-packages\\sklearn\\metrics\\_classification.py:1318: UndefinedMetricWarning: Precision is ill-defined and being set to 0.0 due to no predicted samples. Use `zero_division` parameter to control this behavior.\n",
      "  _warn_prf(average, modifier, msg_start, len(result))\n",
      "c:\\Users\\Tom Swarbrick\\AppData\\Local\\Programs\\Python\\Python310\\lib\\site-packages\\sklearn\\metrics\\_classification.py:1318: UndefinedMetricWarning: Precision is ill-defined and being set to 0.0 due to no predicted samples. Use `zero_division` parameter to control this behavior.\n",
      "  _warn_prf(average, modifier, msg_start, len(result))\n",
      "c:\\Users\\Tom Swarbrick\\AppData\\Local\\Programs\\Python\\Python310\\lib\\site-packages\\sklearn\\metrics\\_classification.py:1318: UndefinedMetricWarning: Precision is ill-defined and being set to 0.0 due to no predicted samples. Use `zero_division` parameter to control this behavior.\n",
      "  _warn_prf(average, modifier, msg_start, len(result))\n",
      "c:\\Users\\Tom Swarbrick\\AppData\\Local\\Programs\\Python\\Python310\\lib\\site-packages\\sklearn\\metrics\\_classification.py:1318: UndefinedMetricWarning: Precision is ill-defined and being set to 0.0 due to no predicted samples. Use `zero_division` parameter to control this behavior.\n",
      "  _warn_prf(average, modifier, msg_start, len(result))\n",
      "c:\\Users\\Tom Swarbrick\\AppData\\Local\\Programs\\Python\\Python310\\lib\\site-packages\\sklearn\\metrics\\_classification.py:1318: UndefinedMetricWarning: Precision is ill-defined and being set to 0.0 due to no predicted samples. Use `zero_division` parameter to control this behavior.\n",
      "  _warn_prf(average, modifier, msg_start, len(result))\n",
      "c:\\Users\\Tom Swarbrick\\AppData\\Local\\Programs\\Python\\Python310\\lib\\site-packages\\sklearn\\metrics\\_classification.py:1318: UndefinedMetricWarning: Precision is ill-defined and being set to 0.0 due to no predicted samples. Use `zero_division` parameter to control this behavior.\n",
      "  _warn_prf(average, modifier, msg_start, len(result))\n",
      "c:\\Users\\Tom Swarbrick\\AppData\\Local\\Programs\\Python\\Python310\\lib\\site-packages\\sklearn\\metrics\\_classification.py:1318: UndefinedMetricWarning: Precision is ill-defined and being set to 0.0 due to no predicted samples. Use `zero_division` parameter to control this behavior.\n",
      "  _warn_prf(average, modifier, msg_start, len(result))\n",
      "c:\\Users\\Tom Swarbrick\\AppData\\Local\\Programs\\Python\\Python310\\lib\\site-packages\\sklearn\\metrics\\_classification.py:1318: UndefinedMetricWarning: Precision is ill-defined and being set to 0.0 due to no predicted samples. Use `zero_division` parameter to control this behavior.\n",
      "  _warn_prf(average, modifier, msg_start, len(result))\n",
      "c:\\Users\\Tom Swarbrick\\AppData\\Local\\Programs\\Python\\Python310\\lib\\site-packages\\sklearn\\metrics\\_classification.py:1318: UndefinedMetricWarning: Precision is ill-defined and being set to 0.0 due to no predicted samples. Use `zero_division` parameter to control this behavior.\n",
      "  _warn_prf(average, modifier, msg_start, len(result))\n",
      "c:\\Users\\Tom Swarbrick\\AppData\\Local\\Programs\\Python\\Python310\\lib\\site-packages\\sklearn\\metrics\\_classification.py:1318: UndefinedMetricWarning: Precision is ill-defined and being set to 0.0 due to no predicted samples. Use `zero_division` parameter to control this behavior.\n",
      "  _warn_prf(average, modifier, msg_start, len(result))\n",
      "c:\\Users\\Tom Swarbrick\\AppData\\Local\\Programs\\Python\\Python310\\lib\\site-packages\\sklearn\\metrics\\_classification.py:1318: UndefinedMetricWarning: Precision is ill-defined and being set to 0.0 due to no predicted samples. Use `zero_division` parameter to control this behavior.\n",
      "  _warn_prf(average, modifier, msg_start, len(result))\n",
      "c:\\Users\\Tom Swarbrick\\AppData\\Local\\Programs\\Python\\Python310\\lib\\site-packages\\sklearn\\metrics\\_classification.py:1318: UndefinedMetricWarning: Precision is ill-defined and being set to 0.0 due to no predicted samples. Use `zero_division` parameter to control this behavior.\n",
      "  _warn_prf(average, modifier, msg_start, len(result))\n",
      "c:\\Users\\Tom Swarbrick\\AppData\\Local\\Programs\\Python\\Python310\\lib\\site-packages\\sklearn\\metrics\\_classification.py:1318: UndefinedMetricWarning: Precision is ill-defined and being set to 0.0 due to no predicted samples. Use `zero_division` parameter to control this behavior.\n",
      "  _warn_prf(average, modifier, msg_start, len(result))\n",
      "c:\\Users\\Tom Swarbrick\\AppData\\Local\\Programs\\Python\\Python310\\lib\\site-packages\\sklearn\\metrics\\_classification.py:1318: UndefinedMetricWarning: Precision is ill-defined and being set to 0.0 due to no predicted samples. Use `zero_division` parameter to control this behavior.\n",
      "  _warn_prf(average, modifier, msg_start, len(result))\n",
      "c:\\Users\\Tom Swarbrick\\AppData\\Local\\Programs\\Python\\Python310\\lib\\site-packages\\sklearn\\metrics\\_classification.py:1318: UndefinedMetricWarning: Precision is ill-defined and being set to 0.0 due to no predicted samples. Use `zero_division` parameter to control this behavior.\n",
      "  _warn_prf(average, modifier, msg_start, len(result))\n",
      "c:\\Users\\Tom Swarbrick\\AppData\\Local\\Programs\\Python\\Python310\\lib\\site-packages\\sklearn\\metrics\\_classification.py:1318: UndefinedMetricWarning: Precision is ill-defined and being set to 0.0 due to no predicted samples. Use `zero_division` parameter to control this behavior.\n",
      "  _warn_prf(average, modifier, msg_start, len(result))\n"
     ]
    },
    {
     "name": "stdout",
     "output_type": "stream",
     "text": [
      "best score of 0.3752147174556813 with C = 100\n",
      "(array([0.83649635, 0.98567335]), array([0.99134948, 0.75438596]), array([0.90736342, 0.85465839]), array([578, 456], dtype=int64))\n",
      "              precision    recall  f1-score   support\n",
      "\n",
      "           0       0.84      0.99      0.91       578\n",
      "           1       0.99      0.75      0.85       456\n",
      "\n",
      "    accuracy                           0.89      1034\n",
      "   macro avg       0.91      0.87      0.88      1034\n",
      "weighted avg       0.90      0.89      0.88      1034\n",
      "\n"
     ]
    }
   ],
   "source": [
    "# logistic regression\n",
    "param = {'C': [0.001, 0.01, 0.1, 1, 10, 100]}\n",
    "clf = LogisticRegression(random_state=42)\n",
    "#scorer = precision_score(pos_label=4)\n",
    "cv = GridSearchCV(clf, param, cv=10, verbose=1, scoring='precision')\n",
    "cv.fit(X_train, Y_train.ravel())\n",
    "#print(cv.cv_results_)\n",
    "print(f\"best score of {cv.best_score_} with {list(param.keys())[0]} = {cv.best_params_[list(param.keys())[0]]}\")\n",
    "clf.set_params(**cv.best_params_)\n",
    "clf.fit(X_train, Y_train.ravel())\n",
    "y_pred = clf.predict(X_test)\n",
    "print(precision_recall_fscore_support(Y_test, y_pred))\n",
    "print(classification_report(Y_test.ravel(), y_pred))"
   ]
  },
  {
   "cell_type": "code",
   "execution_count": 30,
   "metadata": {},
   "outputs": [
    {
     "data": {
      "text/plain": [
       "Text(0, 0.5, 'Precision')"
      ]
     },
     "execution_count": 30,
     "metadata": {},
     "output_type": "execute_result"
    },
    {
     "data": {
      "image/png": "[encoded data removed]",
      "text/plain": [
       "<Figure size 864x576 with 1 Axes>"
      ]
     },
     "metadata": {
      "needs_background": "light"
     },
     "output_type": "display_data"
    }
   ],
   "source": [
    "plt.figure(figsize=(12, 8))\n",
    "plt.grid()\n",
    "plt.bar(np.log([0.001, 0.01, 0.1, 1, 10, 100]), cv.cv_results_['mean_test_score'], yerr=cv.cv_results_['std_test_score'])\n",
    "plt.xlabel('$\\log C$')\n",
    "plt.ylabel('Precision')"
   ]
  },
  {
   "cell_type": "code",
   "execution_count": null,
   "metadata": {},
   "outputs": [],
   "source": []
  },
  {
   "cell_type": "code",
   "execution_count": 19,
   "metadata": {},
   "outputs": [
    {
     "data": {
      "text/plain": [
       "<sklearn.metrics._plot.confusion_matrix.ConfusionMatrixDisplay at 0x22e337f9750>"
      ]
     },
     "execution_count": 19,
     "metadata": {},
     "output_type": "execute_result"
    },
    {
     "data": {
      "image/png": "[encoded data removed]",
      "text/plain": [
       "<Figure size 432x432 with 2 Axes>"
      ]
     },
     "metadata": {
      "needs_background": "light"
     },
     "output_type": "display_data"
    }
   ],
   "source": [
    "fig, ax = plt.subplots(figsize=(6, 6))\n",
    "cm = confusion_matrix(Y_test.ravel(), y_pred)\n",
    "disp = ConfusionMatrixDisplay(confusion_matrix=cm)\n",
    "disp.plot(ax=ax, cmap='Blues')"
   ]
  },
  {
   "cell_type": "code",
   "execution_count": 20,
   "metadata": {},
   "outputs": [
    {
     "data": {
      "text/plain": [
       "array([ True,  True,  True,  True,  True,  True,  True,  True])"
      ]
     },
     "execution_count": 20,
     "metadata": {},
     "output_type": "execute_result"
    }
   ],
   "source": [
    "from sklearn.feature_selection import RFECV\n",
    "clf = RandomForestClassifier(random_state=42)\n",
    "selector = RFECV(estimator=clf, min_features_to_select=5, verbose=0)\n",
    "selector = selector.fit(X_train, Y_train)\n",
    " \n",
    "selector.support_\n"
   ]
  },
  {
   "cell_type": "code",
   "execution_count": 21,
   "metadata": {},
   "outputs": [
    {
     "data": {
      "text/html": [
       "<div>\n",
       "<style scoped>\n",
       "    .dataframe tbody tr th:only-of-type {\n",
       "        vertical-align: middle;\n",
       "    }\n",
       "\n",
       "    .dataframe tbody tr th {\n",
       "        vertical-align: top;\n",
       "    }\n",
       "\n",
       "    .dataframe thead th {\n",
       "        text-align: right;\n",
       "    }\n",
       "</style>\n",
       "<table border=\"1\" class=\"dataframe\">\n",
       "  <thead>\n",
       "    <tr style=\"text-align: right;\">\n",
       "      <th></th>\n",
       "      <th>Rank</th>\n",
       "      <th>Feature</th>\n",
       "    </tr>\n",
       "  </thead>\n",
       "  <tbody>\n",
       "    <tr>\n",
       "      <th>0</th>\n",
       "      <td>1</td>\n",
       "      <td>P-TPT_avg</td>\n",
       "    </tr>\n",
       "    <tr>\n",
       "      <th>1</th>\n",
       "      <td>1</td>\n",
       "      <td>P-TPT_std</td>\n",
       "    </tr>\n",
       "    <tr>\n",
       "      <th>2</th>\n",
       "      <td>1</td>\n",
       "      <td>P-TPT_skew</td>\n",
       "    </tr>\n",
       "    <tr>\n",
       "      <th>3</th>\n",
       "      <td>1</td>\n",
       "      <td>P-TPT_kurtosis</td>\n",
       "    </tr>\n",
       "    <tr>\n",
       "      <th>4</th>\n",
       "      <td>1</td>\n",
       "      <td>T-TPT_avg</td>\n",
       "    </tr>\n",
       "    <tr>\n",
       "      <th>5</th>\n",
       "      <td>1</td>\n",
       "      <td>T-TPT_std</td>\n",
       "    </tr>\n",
       "    <tr>\n",
       "      <th>6</th>\n",
       "      <td>1</td>\n",
       "      <td>T-TPT_skew</td>\n",
       "    </tr>\n",
       "    <tr>\n",
       "      <th>7</th>\n",
       "      <td>1</td>\n",
       "      <td>T-TPT_kurtosis</td>\n",
       "    </tr>\n",
       "  </tbody>\n",
       "</table>\n",
       "</div>"
      ],
      "text/plain": [
       "   Rank         Feature\n",
       "0     1       P-TPT_avg\n",
       "1     1       P-TPT_std\n",
       "2     1      P-TPT_skew\n",
       "3     1  P-TPT_kurtosis\n",
       "4     1       T-TPT_avg\n",
       "5     1       T-TPT_std\n",
       "6     1      T-TPT_skew\n",
       "7     1  T-TPT_kurtosis"
      ]
     },
     "execution_count": 21,
     "metadata": {},
     "output_type": "execute_result"
    }
   ],
   "source": [
    "best_features = pd.DataFrame({'Rank': selector.ranking_, 'Feature': X.columns})\n",
    "best_features\n"
   ]
  }
 ],
 "metadata": {
  "kernelspec": {
   "display_name": "Python 3",
   "language": "python",
   "name": "python3"
  },
  "language_info": {
   "codemirror_mode": {
    "name": "ipython",
    "version": 3
   },
   "file_extension": ".py",
   "mimetype": "text/x-python",
   "name": "python",
   "nbconvert_exporter": "python",
   "pygments_lexer": "ipython3",
   "version": "3.10.2"
  },
  "orig_nbformat": 4
 },
 "nbformat": 4,
 "nbformat_minor": 2
}
